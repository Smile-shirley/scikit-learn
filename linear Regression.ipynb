{
 "cells": [
  {
   "cell_type": "markdown",
   "metadata": {},
   "source": [
    "回归是统计学最有力的工具之一，机器学习监督学习算法分为分类和回归两种算法，分类算法主要用于离散型分布预测，回归算法主要用于连续型分布预测。回归的简单定义为，给定一个点集D，用一个函数去拟合这个点集，并且使得点集和拟合函数之间的误差最小。这里的误差是指预测y值和真实y值之间的差值，使用该误差的简单累加将使得正差值和负差值相互抵消，所以采用平方误差（最小二乘法）"
   ]
  },
  {
   "cell_type": "markdown",
   "metadata": {},
   "source": [
    "使用scikit-learn 自带的波士顿房价数据集来训练模型，然后用模型来预测房价"
   ]
  },
  {
   "cell_type": "code",
   "execution_count": 4,
   "metadata": {},
   "outputs": [
    {
     "data": {
      "text/plain": [
       "array(['CRIM', 'ZN', 'INDUS', 'CHAS', 'NOX', 'RM', 'AGE', 'DIS', 'RAD',\n",
       "       'TAX', 'PTRATIO', 'B', 'LSTAT'], dtype='<U7')"
      ]
     },
     "execution_count": 4,
     "metadata": {},
     "output_type": "execute_result"
    }
   ],
   "source": [
    "from sklearn.datasets import load_boston\n",
    "boston = load_boston()\n",
    "x = boston.data\n",
    "y = boston.target\n",
    "x.shape\n",
    "boston.feature_names"
   ]
  },
  {
   "cell_type": "code",
   "execution_count": 5,
   "metadata": {
    "collapsed": true
   },
   "outputs": [],
   "source": [
    "#讲数据集分成训练集和测试集\n",
    "from sklearn.model_selection import train_test_split\n",
    "x_train,x_test,y_train,y_test = train_test_split(x,y,test_size=0.2,random_state=3)"
   ]
  },
  {
   "cell_type": "code",
   "execution_count": 11,
   "metadata": {},
   "outputs": [
    {
     "name": "stdout",
     "output_type": "stream",
     "text": [
      "elaspe:0.00,train_score:0.72,cv_score:0.79\n"
     ]
    }
   ],
   "source": [
    "import time\n",
    "from sklearn.linear_model import LinearRegression\n",
    "model = LinearRegression()\n",
    "start = time.clock()\n",
    "model.fit(x_train,y_train)\n",
    "train_score = model.score(x_train,y_train)  #对训练样本模型的准确得分\n",
    "train_score\n",
    "cv_score = model.score(x_test,y_test)       #对测试样本模型的准确得分\n",
    "cv_score\n",
    "print('elaspe:{0:.2f},train_score:{1:0.2f},cv_score:{2:.2f}'.format(time.clock()-start,train_score,cv_score))"
   ]
  },
  {
   "cell_type": "markdown",
   "metadata": {},
   "source": [
    "模型的优化"
   ]
  },
  {
   "cell_type": "code",
   "execution_count": 14,
   "metadata": {},
   "outputs": [
    {
     "name": "stdout",
     "output_type": "stream",
     "text": [
      "elaspe:0.04,train_score:0.93,cv_score:0.86\n"
     ]
    }
   ],
   "source": [
    "#特征数据的范围相差太大，讲数据进行归一化处理\n",
    "#模型产生欠拟合，方法一发掘更多的输入特征；方法二增加多项式特征\n",
    "from sklearn.linear_model import LinearRegression\n",
    "from sklearn.preprocessing import PolynomialFeatures  #生成多项式特征\n",
    "from sklearn.pipeline import Pipeline\n",
    "def poplynomial_model(degree=1):\n",
    "    poplynomial_features = PolynomialFeatures(degree=degree,include_bias=False)\n",
    "    linear_regression = LinearRegression(normalize=True)\n",
    "    pipeline = Pipeline([('poplynomial_features',poplynomial_features),('linear_regression',linear_regression)])\n",
    "    return pipeline\n",
    "model = poplynomial_model(degree=2)\n",
    "start = time.clock()\n",
    "model.fit(x_train,y_train)\n",
    "train_score = model.score(x_train,y_train) \n",
    "cv_score = model.score(x_test,y_test) \n",
    "print('elaspe:{0:.2f},train_score:{1:0.2f},cv_score:{2:.2f}'.format(time.clock()-start,train_score,cv_score))"
   ]
  },
  {
   "cell_type": "code",
   "execution_count": null,
   "metadata": {
    "collapsed": true
   },
   "outputs": [],
   "source": []
  }
 ],
 "metadata": {
  "kernelspec": {
   "display_name": "Python 3",
   "language": "python",
   "name": "python3"
  },
  "language_info": {
   "codemirror_mode": {
    "name": "ipython",
    "version": 3
   },
   "file_extension": ".py",
   "mimetype": "text/x-python",
   "name": "python",
   "nbconvert_exporter": "python",
   "pygments_lexer": "ipython3",
   "version": "3.6.1"
  }
 },
 "nbformat": 4,
 "nbformat_minor": 2
}
